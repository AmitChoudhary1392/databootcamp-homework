{
  "nbformat": 4,
  "nbformat_minor": 0,
  "metadata": {
    "colab": {
      "name": "Book_recommender.ipynb",
      "provenance": [],
      "collapsed_sections": [],
      "toc_visible": true
    },
    "kernelspec": {
      "name": "python3",
      "display_name": "Python 3"
    }
  },
  "cells": [
    {
      "cell_type": "code",
      "metadata": {
        "id": "hDfyd_ajfH1I",
        "colab_type": "code",
        "colab": {}
      },
      "source": [
        "import os\n",
        "import time\n",
        "\n",
        "# imports\n",
        "import math\n",
        "import numpy as np\n",
        "import pandas as pd\n",
        "from scipy.sparse import csr_matrix\n",
        "from sklearn.neighbors import NearestNeighbors\n",
        "from sklearn.linear_model import LogisticRegression\n",
        "\n",
        "\n",
        "# visualization imports\n",
        "import seaborn as sns\n",
        "import matplotlib.pyplot as plt\n",
        "plt.style.use('ggplot')\n",
        "\n",
        "%matplotlib inline"
      ],
      "execution_count": 0,
      "outputs": []
    },
    {
      "cell_type": "markdown",
      "metadata": {
        "id": "FIwJfeYzgLjj",
        "colab_type": "text"
      },
      "source": [
        "LOAD DATA\n"
      ]
    },
    {
      "cell_type": "code",
      "metadata": {
        "id": "Im-JQ7i_fvKy",
        "colab_type": "code",
        "colab": {}
      },
      "source": [
        "# Import Dependencies\n",
        "import sqlalchemy\n",
        "from sqlalchemy.ext.automap import automap_base\n",
        "from sqlalchemy.orm import Session\n",
        "from sqlalchemy import create_engine\n",
        "from sqlalchemy import func\n",
        "from sqlalchemy import create_engine"
      ],
      "execution_count": 0,
      "outputs": []
    },
    {
      "cell_type": "code",
      "metadata": {
        "id": "X_mBwqJwpXJD",
        "colab_type": "code",
        "outputId": "2f8ea2ec-906e-469c-8a15-d339f00c3d7f",
        "colab": {
          "resources": {
            "http://localhost:8080/nbextensions/google.colab/files.js": {
              "data": "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",
              "ok": true,
              "headers": [
                [
                  "content-type",
                  "application/javascript"
                ]
              ],
              "status": 200,
              "status_text": ""
            }
          },
          "base_uri": "https://localhost:8080/",
          "height": 74
        }
      },
      "source": [
        "from google.colab import files\n",
        "\n",
        "uploaded = files.upload()"
      ],
      "execution_count": 0,
      "outputs": [
        {
          "output_type": "display_data",
          "data": {
            "text/html": [
              "\n",
              "     <input type=\"file\" id=\"files-525b891a-5be9-4299-a20d-06301d549940\" name=\"files[]\" multiple disabled />\n",
              "     <output id=\"result-525b891a-5be9-4299-a20d-06301d549940\">\n",
              "      Upload widget is only available when the cell has been executed in the\n",
              "      current browser session. Please rerun this cell to enable.\n",
              "      </output>\n",
              "      <script src=\"/nbextensions/google.colab/files.js\"></script> "
            ],
            "text/plain": [
              "<IPython.core.display.HTML object>"
            ]
          },
          "metadata": {
            "tags": []
          }
        },
        {
          "output_type": "stream",
          "text": [
            "Saving books_sql.csv to books_sql (1).csv\n"
          ],
          "name": "stdout"
        }
      ]
    },
    {
      "cell_type": "code",
      "metadata": {
        "id": "-Xp0_BAIqDll",
        "colab_type": "code",
        "colab": {}
      },
      "source": [
        "books_df=pd.read_csv('books_sql.csv')"
      ],
      "execution_count": 0,
      "outputs": []
    },
    {
      "cell_type": "code",
      "metadata": {
        "id": "Kmtfnl1MyKvo",
        "colab_type": "code",
        "outputId": "549df5d1-5d42-4125-9d89-7cd8953319c7",
        "colab": {
          "base_uri": "https://localhost:8080/",
          "height": 534
        }
      },
      "source": [
        "books_df.head()"
      ],
      "execution_count": 0,
      "outputs": [
        {
          "output_type": "execute_result",
          "data": {
            "text/html": [
              "<div>\n",
              "<style scoped>\n",
              "    .dataframe tbody tr th:only-of-type {\n",
              "        vertical-align: middle;\n",
              "    }\n",
              "\n",
              "    .dataframe tbody tr th {\n",
              "        vertical-align: top;\n",
              "    }\n",
              "\n",
              "    .dataframe thead th {\n",
              "        text-align: right;\n",
              "    }\n",
              "</style>\n",
              "<table border=\"1\" class=\"dataframe\">\n",
              "  <thead>\n",
              "    <tr style=\"text-align: right;\">\n",
              "      <th></th>\n",
              "      <th>authors</th>\n",
              "      <th>category/genre</th>\n",
              "      <th>description</th>\n",
              "      <th>id_book</th>\n",
              "      <th>image_url</th>\n",
              "      <th>isbn</th>\n",
              "      <th>language</th>\n",
              "      <th>num_pages</th>\n",
              "      <th>published_date</th>\n",
              "      <th>publisher</th>\n",
              "      <th>sub_category</th>\n",
              "      <th>title</th>\n",
              "      <th>ratings_count</th>\n",
              "      <th>reviews_count</th>\n",
              "      <th>text_reviews_count</th>\n",
              "      <th>average_rating</th>\n",
              "    </tr>\n",
              "  </thead>\n",
              "  <tbody>\n",
              "    <tr>\n",
              "      <th>0</th>\n",
              "      <td>['Stephen King']</td>\n",
              "      <td>Fiction</td>\n",
              "      <td>Returns to the rich landscape of Mid-World in ...</td>\n",
              "      <td>Nvkwjw2LToEC</td>\n",
              "      <td>http://books.google.com/books/content?id=Nvkwj...</td>\n",
              "      <td>9781451658903</td>\n",
              "      <td>en</td>\n",
              "      <td>309</td>\n",
              "      <td></td>\n",
              "      <td>Simon and Schuster</td>\n",
              "      <td>fantasy</td>\n",
              "      <td>The Wind Through the Keyhole</td>\n",
              "      <td>62949</td>\n",
              "      <td>130610</td>\n",
              "      <td>5030</td>\n",
              "      <td>4.15</td>\n",
              "    </tr>\n",
              "    <tr>\n",
              "      <th>1</th>\n",
              "      <td>['Jill McCorkle']</td>\n",
              "      <td>Fiction</td>\n",
              "      <td>Jo Spencer's conventional life is disrupted wh...</td>\n",
              "      <td>ouTaAnG0ipwC</td>\n",
              "      <td>http://books.google.com/books/content?id=ouTaA...</td>\n",
              "      <td>9781565120013</td>\n",
              "      <td>en</td>\n",
              "      <td>400</td>\n",
              "      <td></td>\n",
              "      <td>Algonquin Books</td>\n",
              "      <td>fiction</td>\n",
              "      <td>The Cheer Leader</td>\n",
              "      <td>473</td>\n",
              "      <td>884</td>\n",
              "      <td>36</td>\n",
              "      <td>3.71</td>\n",
              "    </tr>\n",
              "    <tr>\n",
              "      <th>2</th>\n",
              "      <td>['Jules Verne']</td>\n",
              "      <td>Fiction</td>\n",
              "      <td>Jules Verne: Die Kinder des Kapitän Grant. All...</td>\n",
              "      <td>ekDTBgAAQBAJ</td>\n",
              "      <td>http://books.google.com/books/content?id=ekDTB...</td>\n",
              "      <td>9783843030885</td>\n",
              "      <td>de</td>\n",
              "      <td>538</td>\n",
              "      <td></td>\n",
              "      <td>BoD – Books on Demand</td>\n",
              "      <td>adventure</td>\n",
              "      <td>Die Kinder des Kapitän Grant</td>\n",
              "      <td>9954</td>\n",
              "      <td>17743</td>\n",
              "      <td>224</td>\n",
              "      <td>4.08</td>\n",
              "    </tr>\n",
              "    <tr>\n",
              "      <th>3</th>\n",
              "      <td>['Cathy Gillen Thacker']</td>\n",
              "      <td>Fiction</td>\n",
              "      <td>With a busy career and three kids to feed, sin...</td>\n",
              "      <td>BtMwEKkGwowC</td>\n",
              "      <td>http://books.google.com/books/content?id=BtMwE...</td>\n",
              "      <td>9781426841453</td>\n",
              "      <td>en</td>\n",
              "      <td>224</td>\n",
              "      <td></td>\n",
              "      <td>Harlequin</td>\n",
              "      <td>hoopla</td>\n",
              "      <td>A Baby for Mommy</td>\n",
              "      <td>70</td>\n",
              "      <td>177</td>\n",
              "      <td>9</td>\n",
              "      <td>3.51</td>\n",
              "    </tr>\n",
              "    <tr>\n",
              "      <th>4</th>\n",
              "      <td>['Edgar Wallace']</td>\n",
              "      <td>Fiction</td>\n",
              "      <td>Employing his unique style of innocent and end...</td>\n",
              "      <td>A4KYDQAAQBAJ</td>\n",
              "      <td>http://books.google.com/books/content?id=A4KYD...</td>\n",
              "      <td>9780755122684</td>\n",
              "      <td>en</td>\n",
              "      <td>190</td>\n",
              "      <td></td>\n",
              "      <td>House of Stratus</td>\n",
              "      <td>fiction</td>\n",
              "      <td>Sanders</td>\n",
              "      <td>27</td>\n",
              "      <td>77</td>\n",
              "      <td>2</td>\n",
              "      <td>3.96</td>\n",
              "    </tr>\n",
              "  </tbody>\n",
              "</table>\n",
              "</div>"
            ],
            "text/plain": [
              "                    authors category/genre  ... text_reviews_count average_rating\n",
              "0          ['Stephen King']        Fiction  ...               5030           4.15\n",
              "1         ['Jill McCorkle']        Fiction  ...                 36           3.71\n",
              "2           ['Jules Verne']        Fiction  ...                224           4.08\n",
              "3  ['Cathy Gillen Thacker']        Fiction  ...                  9           3.51\n",
              "4         ['Edgar Wallace']        Fiction  ...                  2           3.96\n",
              "\n",
              "[5 rows x 16 columns]"
            ]
          },
          "metadata": {
            "tags": []
          },
          "execution_count": 137
        }
      ]
    },
    {
      "cell_type": "code",
      "metadata": {
        "id": "L4ieOxscyM6X",
        "colab_type": "code",
        "outputId": "f40c7876-8c23-4d0a-c7a4-d712a4dc2153",
        "colab": {
          "base_uri": "https://localhost:8080/",
          "height": 195
        }
      },
      "source": [
        "df_books=books_df[['id_book','title','authors','num_pages','ratings_count','reviews_count','text_reviews_count','average_rating']]\n",
        "df_books.head()"
      ],
      "execution_count": 0,
      "outputs": [
        {
          "output_type": "execute_result",
          "data": {
            "text/html": [
              "<div>\n",
              "<style scoped>\n",
              "    .dataframe tbody tr th:only-of-type {\n",
              "        vertical-align: middle;\n",
              "    }\n",
              "\n",
              "    .dataframe tbody tr th {\n",
              "        vertical-align: top;\n",
              "    }\n",
              "\n",
              "    .dataframe thead th {\n",
              "        text-align: right;\n",
              "    }\n",
              "</style>\n",
              "<table border=\"1\" class=\"dataframe\">\n",
              "  <thead>\n",
              "    <tr style=\"text-align: right;\">\n",
              "      <th></th>\n",
              "      <th>id_book</th>\n",
              "      <th>title</th>\n",
              "      <th>authors</th>\n",
              "      <th>num_pages</th>\n",
              "      <th>ratings_count</th>\n",
              "      <th>reviews_count</th>\n",
              "      <th>text_reviews_count</th>\n",
              "      <th>average_rating</th>\n",
              "    </tr>\n",
              "  </thead>\n",
              "  <tbody>\n",
              "    <tr>\n",
              "      <th>0</th>\n",
              "      <td>Nvkwjw2LToEC</td>\n",
              "      <td>The Wind Through the Keyhole</td>\n",
              "      <td>['Stephen King']</td>\n",
              "      <td>309</td>\n",
              "      <td>62949</td>\n",
              "      <td>130610</td>\n",
              "      <td>5030</td>\n",
              "      <td>4.15</td>\n",
              "    </tr>\n",
              "    <tr>\n",
              "      <th>1</th>\n",
              "      <td>ouTaAnG0ipwC</td>\n",
              "      <td>The Cheer Leader</td>\n",
              "      <td>['Jill McCorkle']</td>\n",
              "      <td>400</td>\n",
              "      <td>473</td>\n",
              "      <td>884</td>\n",
              "      <td>36</td>\n",
              "      <td>3.71</td>\n",
              "    </tr>\n",
              "    <tr>\n",
              "      <th>2</th>\n",
              "      <td>ekDTBgAAQBAJ</td>\n",
              "      <td>Die Kinder des Kapitän Grant</td>\n",
              "      <td>['Jules Verne']</td>\n",
              "      <td>538</td>\n",
              "      <td>9954</td>\n",
              "      <td>17743</td>\n",
              "      <td>224</td>\n",
              "      <td>4.08</td>\n",
              "    </tr>\n",
              "    <tr>\n",
              "      <th>3</th>\n",
              "      <td>BtMwEKkGwowC</td>\n",
              "      <td>A Baby for Mommy</td>\n",
              "      <td>['Cathy Gillen Thacker']</td>\n",
              "      <td>224</td>\n",
              "      <td>70</td>\n",
              "      <td>177</td>\n",
              "      <td>9</td>\n",
              "      <td>3.51</td>\n",
              "    </tr>\n",
              "    <tr>\n",
              "      <th>4</th>\n",
              "      <td>A4KYDQAAQBAJ</td>\n",
              "      <td>Sanders</td>\n",
              "      <td>['Edgar Wallace']</td>\n",
              "      <td>190</td>\n",
              "      <td>27</td>\n",
              "      <td>77</td>\n",
              "      <td>2</td>\n",
              "      <td>3.96</td>\n",
              "    </tr>\n",
              "  </tbody>\n",
              "</table>\n",
              "</div>"
            ],
            "text/plain": [
              "        id_book  ... average_rating\n",
              "0  Nvkwjw2LToEC  ...           4.15\n",
              "1  ouTaAnG0ipwC  ...           3.71\n",
              "2  ekDTBgAAQBAJ  ...           4.08\n",
              "3  BtMwEKkGwowC  ...           3.51\n",
              "4  A4KYDQAAQBAJ  ...           3.96\n",
              "\n",
              "[5 rows x 8 columns]"
            ]
          },
          "metadata": {
            "tags": []
          },
          "execution_count": 138
        }
      ]
    },
    {
      "cell_type": "code",
      "metadata": {
        "id": "qH9-wkKnzJtq",
        "colab_type": "code",
        "outputId": "9f8c6494-816e-400e-c2ad-c6a4d0d6ce37",
        "colab": {
          "base_uri": "https://localhost:8080/",
          "height": 235
        }
      },
      "source": [
        "df_books.info()"
      ],
      "execution_count": 0,
      "outputs": [
        {
          "output_type": "stream",
          "text": [
            "<class 'pandas.core.frame.DataFrame'>\n",
            "RangeIndex: 1169 entries, 0 to 1168\n",
            "Data columns (total 8 columns):\n",
            "id_book               1169 non-null object\n",
            "title                 1169 non-null object\n",
            "authors               1169 non-null object\n",
            "num_pages             1169 non-null int64\n",
            "ratings_count         1169 non-null int64\n",
            "reviews_count         1169 non-null int64\n",
            "text_reviews_count    1169 non-null int64\n",
            "average_rating        1169 non-null float64\n",
            "dtypes: float64(1), int64(4), object(3)\n",
            "memory usage: 73.2+ KB\n"
          ],
          "name": "stdout"
        }
      ]
    },
    {
      "cell_type": "code",
      "metadata": {
        "id": "v9Sg4kmszZKi",
        "colab_type": "code",
        "colab": {}
      },
      "source": [
        "user_data=[(4,'Nvkwjw2LToEC', 'The Wind Through the Keyhole', \"['Stephen King']\",\"good\", 4.15),\n",
        "          (2,'ouTaAnG0ipwC', 'The Cheer Leader', \"['Jill McCorkle']\",\"moderate\", 3.71),\n",
        "           (10,'ekDTBgAAQBAJ', 'Die Kinder des Kapitän Grant', \"['Jules Verne']\", \"good\",4.08),\n",
        "           (12,'YkZdNbGWQH4C', 'Stone Bleeding', \"['Russell Mardell']\",\"moderate\", 4.0),\n",
        "            (9,'pLNzDwAAQBAJ', 'Lock Every Door', \"['Riley Sager']\", \"moderate\",3.95),\n",
        "           (11,'gGtjHYVu6cgC', 'Ordinary Beauty', \"['Laura Wiess']\",\"good\", 4.19),\n",
        "           (3,'2mgnEzzaJrIC', 'The Joy Luck Club', \"['Amy Tan']\",\"moderate\",3.92),\n",
        "          (11,'Nvkwjw2LToEC', 'The Wind Through the Keyhole', \"['Stephen King']\",\"good\",4.15),\n",
        "           (11,'S3K3UK09ZuoC', 'House Rules', \"['Jodi Picoult']\",\"good\", 4.03),\n",
        "           (9,'y3gghM_M8U0C', 'Mask Market', \"['Andrew H. Vachss']\", \"moderate\",3.81),\n",
        "           (14,'YkZdNbGWQH4C', 'Stone Bleeding', \"['Russell Mardell']\", 4.0),\n",
        "           (4,'qaKkenvL29UC','Harry Potter and the Half-Blood Prince',\"['J.K. Rowling']\",\"good\",4.57),\n",
        "           (12,'FzVjBgAAQBAJ', 'The Alchemist', \"['Paulo Coelho']\",\"moderate\", 3.86),\n",
        "          (11,'fz7FR5vcRPwC', 'The Alchemist', \"['Ben Jonson']\", \"moderate\",3.58),\n",
        "           (6,'NVPpTEiSQEkC','A Briefer History of Time',\"['Leonard Mlodinow', 'Stephen Hawking']\",\"good\",4.22),\n",
        "           (9,'g1ZSDwAAQBAJ','Fantastic Beasts: The Crimes of Grindelwald - The Original Screenplay',\"['J.K. Rowling']\",\"good\",4.11),\n",
        "           (14,'bqiivgEACAAJ','Adventures of Sherlock Holmes',\"['Arthur Conan Doyle', 'Gustav Hartenstein']\",\"good\",4.31),\n",
        "           (2,'kti7vZn1DH0C', 'Macbeth', \"['William Shakespeare']\",\"moderate\", 3.98),\n",
        "            (2,'A2eMEGrq5msC',\"A Midsummer Night's Dream\",\"['William Shakespeare']\",\"moderate\",3.94)]"
      ],
      "execution_count": 0,
      "outputs": []
    },
    {
      "cell_type": "code",
      "metadata": {
        "id": "YbX-Y3DaztAA",
        "colab_type": "code",
        "outputId": "266a8832-c18b-4fc0-b182-b772779e9858",
        "colab": {
          "base_uri": "https://localhost:8080/",
          "height": 195
        }
      },
      "source": [
        "df_user=pd.DataFrame(user_data,columns=['user_id','id_book','title','authors','review','rating'])\n",
        "df_user.head()"
      ],
      "execution_count": 0,
      "outputs": [
        {
          "output_type": "execute_result",
          "data": {
            "text/html": [
              "<div>\n",
              "<style scoped>\n",
              "    .dataframe tbody tr th:only-of-type {\n",
              "        vertical-align: middle;\n",
              "    }\n",
              "\n",
              "    .dataframe tbody tr th {\n",
              "        vertical-align: top;\n",
              "    }\n",
              "\n",
              "    .dataframe thead th {\n",
              "        text-align: right;\n",
              "    }\n",
              "</style>\n",
              "<table border=\"1\" class=\"dataframe\">\n",
              "  <thead>\n",
              "    <tr style=\"text-align: right;\">\n",
              "      <th></th>\n",
              "      <th>user_id</th>\n",
              "      <th>id_book</th>\n",
              "      <th>title</th>\n",
              "      <th>authors</th>\n",
              "      <th>review</th>\n",
              "      <th>rating</th>\n",
              "    </tr>\n",
              "  </thead>\n",
              "  <tbody>\n",
              "    <tr>\n",
              "      <th>0</th>\n",
              "      <td>4</td>\n",
              "      <td>Nvkwjw2LToEC</td>\n",
              "      <td>The Wind Through the Keyhole</td>\n",
              "      <td>['Stephen King']</td>\n",
              "      <td>good</td>\n",
              "      <td>4.15</td>\n",
              "    </tr>\n",
              "    <tr>\n",
              "      <th>1</th>\n",
              "      <td>2</td>\n",
              "      <td>ouTaAnG0ipwC</td>\n",
              "      <td>The Cheer Leader</td>\n",
              "      <td>['Jill McCorkle']</td>\n",
              "      <td>moderate</td>\n",
              "      <td>3.71</td>\n",
              "    </tr>\n",
              "    <tr>\n",
              "      <th>2</th>\n",
              "      <td>10</td>\n",
              "      <td>ekDTBgAAQBAJ</td>\n",
              "      <td>Die Kinder des Kapitän Grant</td>\n",
              "      <td>['Jules Verne']</td>\n",
              "      <td>good</td>\n",
              "      <td>4.08</td>\n",
              "    </tr>\n",
              "    <tr>\n",
              "      <th>3</th>\n",
              "      <td>12</td>\n",
              "      <td>YkZdNbGWQH4C</td>\n",
              "      <td>Stone Bleeding</td>\n",
              "      <td>['Russell Mardell']</td>\n",
              "      <td>moderate</td>\n",
              "      <td>4.00</td>\n",
              "    </tr>\n",
              "    <tr>\n",
              "      <th>4</th>\n",
              "      <td>9</td>\n",
              "      <td>pLNzDwAAQBAJ</td>\n",
              "      <td>Lock Every Door</td>\n",
              "      <td>['Riley Sager']</td>\n",
              "      <td>moderate</td>\n",
              "      <td>3.95</td>\n",
              "    </tr>\n",
              "  </tbody>\n",
              "</table>\n",
              "</div>"
            ],
            "text/plain": [
              "   user_id       id_book  ...    review rating\n",
              "0        4  Nvkwjw2LToEC  ...      good   4.15\n",
              "1        2  ouTaAnG0ipwC  ...  moderate   3.71\n",
              "2       10  ekDTBgAAQBAJ  ...      good   4.08\n",
              "3       12  YkZdNbGWQH4C  ...  moderate   4.00\n",
              "4        9  pLNzDwAAQBAJ  ...  moderate   3.95\n",
              "\n",
              "[5 rows x 6 columns]"
            ]
          },
          "metadata": {
            "tags": []
          },
          "execution_count": 47
        }
      ]
    },
    {
      "cell_type": "code",
      "metadata": {
        "id": "SrCY-BQa7KER",
        "colab_type": "code",
        "outputId": "72b8034f-8fa8-4c4d-f5fe-1487971fc6d4",
        "colab": {
          "base_uri": "https://localhost:8080/",
          "height": 202
        }
      },
      "source": [
        "df_user.info()"
      ],
      "execution_count": 0,
      "outputs": [
        {
          "output_type": "stream",
          "text": [
            "<class 'pandas.core.frame.DataFrame'>\n",
            "RangeIndex: 19 entries, 0 to 18\n",
            "Data columns (total 6 columns):\n",
            "user_id    19 non-null int64\n",
            "id_book    19 non-null object\n",
            "title      19 non-null object\n",
            "authors    19 non-null object\n",
            "review     19 non-null object\n",
            "rating     18 non-null float64\n",
            "dtypes: float64(1), int64(1), object(4)\n",
            "memory usage: 1.0+ KB\n"
          ],
          "name": "stdout"
        }
      ]
    },
    {
      "cell_type": "code",
      "metadata": {
        "id": "wjr9BH7J7O0I",
        "colab_type": "code",
        "outputId": "da1c96f5-b85a-4931-ac92-81a215057cfc",
        "colab": {
          "base_uri": "https://localhost:8080/",
          "height": 34
        }
      },
      "source": [
        "num_authors = len(df_books.authors.unique())\n",
        "num_books = len(df_books.id_book.unique())\n",
        "print('There are {} unique authors and {} unique books in this data set'.format(num_users, num_books))"
      ],
      "execution_count": 0,
      "outputs": [
        {
          "output_type": "stream",
          "text": [
            "There are 1020 unique authors and 1164 unique books in this data set\n"
          ],
          "name": "stdout"
        }
      ]
    },
    {
      "cell_type": "code",
      "metadata": {
        "id": "ldilUKmnE6KS",
        "colab_type": "code",
        "outputId": "8b16b2f0-d9ae-44fb-b8d7-bd69a6cde43c",
        "colab": {
          "base_uri": "https://localhost:8080/",
          "height": 296
        }
      },
      "source": [
        "df_books['average_rating']=df_books['average_rating'].apply(lambda x:float(x)).apply(lambda x:round(x,1))\n",
        "df_books.head()"
      ],
      "execution_count": 0,
      "outputs": [
        {
          "output_type": "stream",
          "text": [
            "/usr/local/lib/python3.6/dist-packages/ipykernel_launcher.py:1: SettingWithCopyWarning: \n",
            "A value is trying to be set on a copy of a slice from a DataFrame.\n",
            "Try using .loc[row_indexer,col_indexer] = value instead\n",
            "\n",
            "See the caveats in the documentation: http://pandas.pydata.org/pandas-docs/stable/user_guide/indexing.html#returning-a-view-versus-a-copy\n",
            "  \"\"\"Entry point for launching an IPython kernel.\n"
          ],
          "name": "stderr"
        },
        {
          "output_type": "execute_result",
          "data": {
            "text/html": [
              "<div>\n",
              "<style scoped>\n",
              "    .dataframe tbody tr th:only-of-type {\n",
              "        vertical-align: middle;\n",
              "    }\n",
              "\n",
              "    .dataframe tbody tr th {\n",
              "        vertical-align: top;\n",
              "    }\n",
              "\n",
              "    .dataframe thead th {\n",
              "        text-align: right;\n",
              "    }\n",
              "</style>\n",
              "<table border=\"1\" class=\"dataframe\">\n",
              "  <thead>\n",
              "    <tr style=\"text-align: right;\">\n",
              "      <th></th>\n",
              "      <th>id_book</th>\n",
              "      <th>title</th>\n",
              "      <th>authors</th>\n",
              "      <th>num_pages</th>\n",
              "      <th>ratings_count</th>\n",
              "      <th>reviews_count</th>\n",
              "      <th>text_reviews_count</th>\n",
              "      <th>average_rating</th>\n",
              "    </tr>\n",
              "  </thead>\n",
              "  <tbody>\n",
              "    <tr>\n",
              "      <th>0</th>\n",
              "      <td>Nvkwjw2LToEC</td>\n",
              "      <td>The Wind Through the Keyhole</td>\n",
              "      <td>['Stephen King']</td>\n",
              "      <td>309</td>\n",
              "      <td>62949</td>\n",
              "      <td>130610</td>\n",
              "      <td>5030</td>\n",
              "      <td>4.2</td>\n",
              "    </tr>\n",
              "    <tr>\n",
              "      <th>1</th>\n",
              "      <td>ouTaAnG0ipwC</td>\n",
              "      <td>The Cheer Leader</td>\n",
              "      <td>['Jill McCorkle']</td>\n",
              "      <td>400</td>\n",
              "      <td>473</td>\n",
              "      <td>884</td>\n",
              "      <td>36</td>\n",
              "      <td>3.7</td>\n",
              "    </tr>\n",
              "    <tr>\n",
              "      <th>2</th>\n",
              "      <td>ekDTBgAAQBAJ</td>\n",
              "      <td>Die Kinder des Kapitän Grant</td>\n",
              "      <td>['Jules Verne']</td>\n",
              "      <td>538</td>\n",
              "      <td>9954</td>\n",
              "      <td>17743</td>\n",
              "      <td>224</td>\n",
              "      <td>4.1</td>\n",
              "    </tr>\n",
              "    <tr>\n",
              "      <th>3</th>\n",
              "      <td>BtMwEKkGwowC</td>\n",
              "      <td>A Baby for Mommy</td>\n",
              "      <td>['Cathy Gillen Thacker']</td>\n",
              "      <td>224</td>\n",
              "      <td>70</td>\n",
              "      <td>177</td>\n",
              "      <td>9</td>\n",
              "      <td>3.5</td>\n",
              "    </tr>\n",
              "    <tr>\n",
              "      <th>4</th>\n",
              "      <td>A4KYDQAAQBAJ</td>\n",
              "      <td>Sanders</td>\n",
              "      <td>['Edgar Wallace']</td>\n",
              "      <td>190</td>\n",
              "      <td>27</td>\n",
              "      <td>77</td>\n",
              "      <td>2</td>\n",
              "      <td>4.0</td>\n",
              "    </tr>\n",
              "  </tbody>\n",
              "</table>\n",
              "</div>"
            ],
            "text/plain": [
              "        id_book  ... average_rating\n",
              "0  Nvkwjw2LToEC  ...            4.2\n",
              "1  ouTaAnG0ipwC  ...            3.7\n",
              "2  ekDTBgAAQBAJ  ...            4.1\n",
              "3  BtMwEKkGwowC  ...            3.5\n",
              "4  A4KYDQAAQBAJ  ...            4.0\n",
              "\n",
              "[5 rows x 8 columns]"
            ]
          },
          "metadata": {
            "tags": []
          },
          "execution_count": 141
        }
      ]
    },
    {
      "cell_type": "code",
      "metadata": {
        "id": "BBwxmyhD8Bdv",
        "colab_type": "code",
        "colab": {}
      },
      "source": [
        "#count of each rating:\n",
        "\n",
        "df_books_cnt=pd.DataFrame(df_books.groupby('average_rating').size(), columns=['count'])"
      ],
      "execution_count": 0,
      "outputs": []
    },
    {
      "cell_type": "code",
      "metadata": {
        "id": "YCgIvroDBaLv",
        "colab_type": "code",
        "outputId": "4c7ceb9a-1f86-4ef6-cabb-0e3f2b45235a",
        "colab": {
          "base_uri": "https://localhost:8080/",
          "height": 817
        }
      },
      "source": [
        "# add log count\n",
        "df_books_cnt['log_count'] = np.log(df_books_cnt['count'])\n",
        "df_books_cnt"
      ],
      "execution_count": 0,
      "outputs": [
        {
          "output_type": "execute_result",
          "data": {
            "text/html": [
              "<div>\n",
              "<style scoped>\n",
              "    .dataframe tbody tr th:only-of-type {\n",
              "        vertical-align: middle;\n",
              "    }\n",
              "\n",
              "    .dataframe tbody tr th {\n",
              "        vertical-align: top;\n",
              "    }\n",
              "\n",
              "    .dataframe thead th {\n",
              "        text-align: right;\n",
              "    }\n",
              "</style>\n",
              "<table border=\"1\" class=\"dataframe\">\n",
              "  <thead>\n",
              "    <tr style=\"text-align: right;\">\n",
              "      <th></th>\n",
              "      <th>count</th>\n",
              "      <th>log_count</th>\n",
              "    </tr>\n",
              "    <tr>\n",
              "      <th>average_rating</th>\n",
              "      <th></th>\n",
              "      <th></th>\n",
              "    </tr>\n",
              "  </thead>\n",
              "  <tbody>\n",
              "    <tr>\n",
              "      <th>0.0</th>\n",
              "      <td>1</td>\n",
              "      <td>0.000000</td>\n",
              "    </tr>\n",
              "    <tr>\n",
              "      <th>2.5</th>\n",
              "      <td>2</td>\n",
              "      <td>0.693147</td>\n",
              "    </tr>\n",
              "    <tr>\n",
              "      <th>2.6</th>\n",
              "      <td>1</td>\n",
              "      <td>0.000000</td>\n",
              "    </tr>\n",
              "    <tr>\n",
              "      <th>2.8</th>\n",
              "      <td>3</td>\n",
              "      <td>1.098612</td>\n",
              "    </tr>\n",
              "    <tr>\n",
              "      <th>2.9</th>\n",
              "      <td>6</td>\n",
              "      <td>1.791759</td>\n",
              "    </tr>\n",
              "    <tr>\n",
              "      <th>3.0</th>\n",
              "      <td>14</td>\n",
              "      <td>2.639057</td>\n",
              "    </tr>\n",
              "    <tr>\n",
              "      <th>3.1</th>\n",
              "      <td>9</td>\n",
              "      <td>2.197225</td>\n",
              "    </tr>\n",
              "    <tr>\n",
              "      <th>3.2</th>\n",
              "      <td>17</td>\n",
              "      <td>2.833213</td>\n",
              "    </tr>\n",
              "    <tr>\n",
              "      <th>3.3</th>\n",
              "      <td>22</td>\n",
              "      <td>3.091042</td>\n",
              "    </tr>\n",
              "    <tr>\n",
              "      <th>3.4</th>\n",
              "      <td>40</td>\n",
              "      <td>3.688879</td>\n",
              "    </tr>\n",
              "    <tr>\n",
              "      <th>3.5</th>\n",
              "      <td>59</td>\n",
              "      <td>4.077537</td>\n",
              "    </tr>\n",
              "    <tr>\n",
              "      <th>3.6</th>\n",
              "      <td>69</td>\n",
              "      <td>4.234107</td>\n",
              "    </tr>\n",
              "    <tr>\n",
              "      <th>3.7</th>\n",
              "      <td>94</td>\n",
              "      <td>4.543295</td>\n",
              "    </tr>\n",
              "    <tr>\n",
              "      <th>3.8</th>\n",
              "      <td>126</td>\n",
              "      <td>4.836282</td>\n",
              "    </tr>\n",
              "    <tr>\n",
              "      <th>3.9</th>\n",
              "      <td>142</td>\n",
              "      <td>4.955827</td>\n",
              "    </tr>\n",
              "    <tr>\n",
              "      <th>4.0</th>\n",
              "      <td>166</td>\n",
              "      <td>5.111988</td>\n",
              "    </tr>\n",
              "    <tr>\n",
              "      <th>4.1</th>\n",
              "      <td>122</td>\n",
              "      <td>4.804021</td>\n",
              "    </tr>\n",
              "    <tr>\n",
              "      <th>4.2</th>\n",
              "      <td>114</td>\n",
              "      <td>4.736198</td>\n",
              "    </tr>\n",
              "    <tr>\n",
              "      <th>4.3</th>\n",
              "      <td>89</td>\n",
              "      <td>4.488636</td>\n",
              "    </tr>\n",
              "    <tr>\n",
              "      <th>4.4</th>\n",
              "      <td>34</td>\n",
              "      <td>3.526361</td>\n",
              "    </tr>\n",
              "    <tr>\n",
              "      <th>4.5</th>\n",
              "      <td>22</td>\n",
              "      <td>3.091042</td>\n",
              "    </tr>\n",
              "    <tr>\n",
              "      <th>4.6</th>\n",
              "      <td>9</td>\n",
              "      <td>2.197225</td>\n",
              "    </tr>\n",
              "    <tr>\n",
              "      <th>4.7</th>\n",
              "      <td>1</td>\n",
              "      <td>0.000000</td>\n",
              "    </tr>\n",
              "    <tr>\n",
              "      <th>4.8</th>\n",
              "      <td>2</td>\n",
              "      <td>0.693147</td>\n",
              "    </tr>\n",
              "    <tr>\n",
              "      <th>5.0</th>\n",
              "      <td>5</td>\n",
              "      <td>1.609438</td>\n",
              "    </tr>\n",
              "  </tbody>\n",
              "</table>\n",
              "</div>"
            ],
            "text/plain": [
              "                count  log_count\n",
              "average_rating                  \n",
              "0.0                 1   0.000000\n",
              "2.5                 2   0.693147\n",
              "2.6                 1   0.000000\n",
              "2.8                 3   1.098612\n",
              "2.9                 6   1.791759\n",
              "3.0                14   2.639057\n",
              "3.1                 9   2.197225\n",
              "3.2                17   2.833213\n",
              "3.3                22   3.091042\n",
              "3.4                40   3.688879\n",
              "3.5                59   4.077537\n",
              "3.6                69   4.234107\n",
              "3.7                94   4.543295\n",
              "3.8               126   4.836282\n",
              "3.9               142   4.955827\n",
              "4.0               166   5.111988\n",
              "4.1               122   4.804021\n",
              "4.2               114   4.736198\n",
              "4.3                89   4.488636\n",
              "4.4                34   3.526361\n",
              "4.5                22   3.091042\n",
              "4.6                 9   2.197225\n",
              "4.7                 1   0.000000\n",
              "4.8                 2   0.693147\n",
              "5.0                 5   1.609438"
            ]
          },
          "metadata": {
            "tags": []
          },
          "execution_count": 143
        }
      ]
    },
    {
      "cell_type": "code",
      "metadata": {
        "id": "XlsYzfV3Fe-O",
        "colab_type": "code",
        "outputId": "bdbaebbf-07e2-4e50-b06b-1f7edeb3b7a5",
        "colab": {
          "base_uri": "https://localhost:8080/",
          "height": 543
        }
      },
      "source": [
        "ax = df_books_cnt[['count']].reset_index().rename(columns={'index': 'average_rating'}).plot(\n",
        "    x='average_rating',\n",
        "    y='count',\n",
        "    kind='bar',\n",
        "    figsize=(12, 8),\n",
        "    title='Count for Each Rating Score (in Log Scale)',\n",
        "    logy=True,\n",
        "    fontsize=12,\n",
        ")\n",
        "ax.set_xlabel(\"book rating score\")\n",
        "ax.set_ylabel(\"number of ratings\")"
      ],
      "execution_count": 0,
      "outputs": [
        {
          "output_type": "execute_result",
          "data": {
            "text/plain": [
              "Text(0, 0.5, 'number of ratings')"
            ]
          },
          "metadata": {
            "tags": []
          },
          "execution_count": 144
        },
        {
          "output_type": "display_data",
          "data": {
            "image/png": "[encoded data removed]",
            "text/plain": [
              "<Figure size 864x576 with 1 Axes>"
            ]
          },
          "metadata": {
            "tags": []
          }
        }
      ]
    },
    {
      "cell_type": "code",
      "metadata": {
        "id": "Owc2dWKEGlSn",
        "colab_type": "code",
        "outputId": "82a78455-8a60-4622-a3e8-b29f3be64962",
        "colab": {
          "base_uri": "https://localhost:8080/",
          "height": 225
        }
      },
      "source": [
        "# get rating frequency\n",
        "df_cnt = df_books[['title','ratings_count']]\n",
        "df_cnt=df_cnt.set_index('title')\n",
        "df_cnt.head()"
      ],
      "execution_count": 0,
      "outputs": [
        {
          "output_type": "execute_result",
          "data": {
            "text/html": [
              "<div>\n",
              "<style scoped>\n",
              "    .dataframe tbody tr th:only-of-type {\n",
              "        vertical-align: middle;\n",
              "    }\n",
              "\n",
              "    .dataframe tbody tr th {\n",
              "        vertical-align: top;\n",
              "    }\n",
              "\n",
              "    .dataframe thead th {\n",
              "        text-align: right;\n",
              "    }\n",
              "</style>\n",
              "<table border=\"1\" class=\"dataframe\">\n",
              "  <thead>\n",
              "    <tr style=\"text-align: right;\">\n",
              "      <th></th>\n",
              "      <th>ratings_count</th>\n",
              "    </tr>\n",
              "    <tr>\n",
              "      <th>title</th>\n",
              "      <th></th>\n",
              "    </tr>\n",
              "  </thead>\n",
              "  <tbody>\n",
              "    <tr>\n",
              "      <th>The Wind Through the Keyhole</th>\n",
              "      <td>62949</td>\n",
              "    </tr>\n",
              "    <tr>\n",
              "      <th>The Cheer Leader</th>\n",
              "      <td>473</td>\n",
              "    </tr>\n",
              "    <tr>\n",
              "      <th>Die Kinder des Kapitän Grant</th>\n",
              "      <td>9954</td>\n",
              "    </tr>\n",
              "    <tr>\n",
              "      <th>A Baby for Mommy</th>\n",
              "      <td>70</td>\n",
              "    </tr>\n",
              "    <tr>\n",
              "      <th>Sanders</th>\n",
              "      <td>27</td>\n",
              "    </tr>\n",
              "  </tbody>\n",
              "</table>\n",
              "</div>"
            ],
            "text/plain": [
              "                              ratings_count\n",
              "title                                      \n",
              "The Wind Through the Keyhole          62949\n",
              "The Cheer Leader                        473\n",
              "Die Kinder des Kapitän Grant           9954\n",
              "A Baby for Mommy                         70\n",
              "Sanders                                  27"
            ]
          },
          "metadata": {
            "tags": []
          },
          "execution_count": 145
        }
      ]
    },
    {
      "cell_type": "code",
      "metadata": {
        "id": "Y4AXMqiYKhfp",
        "colab_type": "code",
        "outputId": "e9e76678-8e08-4c7d-ff25-b7d76a223b90",
        "colab": {
          "base_uri": "https://localhost:8080/",
          "height": 537
        }
      },
      "source": [
        "# plot rating frequency of all movies\n",
        "ax = df_cnt.sort_values('ratings_count', ascending=False) \\\n",
        "    .reset_index(drop=True) \\\n",
        "    .plot(\n",
        "        figsize=(12, 8),\n",
        "        title='Rating Frequency of All Books',\n",
        "        fontsize=12,\n",
        "        )\n",
        "ax.set_xlabel(\"Title\")\n",
        "ax.set_ylabel(\"number of ratings\")"
      ],
      "execution_count": 0,
      "outputs": [
        {
          "output_type": "execute_result",
          "data": {
            "text/plain": [
              "Text(0, 0.5, 'number of ratings')"
            ]
          },
          "metadata": {
            "tags": []
          },
          "execution_count": 146
        },
        {
          "output_type": "display_data",
          "data": {
            "image/png": "[encoded data removed]",
            "text/plain": [
              "<Figure size 864x576 with 1 Axes>"
            ]
          },
          "metadata": {
            "tags": []
          }
        }
      ]
    },
    {
      "cell_type": "code",
      "metadata": {
        "id": "a14jbp5zNiMF",
        "colab_type": "code",
        "outputId": "01cfc3c8-bc75-48f8-9aba-f527f38515d1",
        "colab": {
          "base_uri": "https://localhost:8080/",
          "height": 537
        }
      },
      "source": [
        "# plot rating frequency of all movies in log scale\n",
        "ax = df_cnt \\\n",
        "    .sort_values('ratings_count', ascending=False) \\\n",
        "    .reset_index(drop=True) \\\n",
        "    .plot(\n",
        "        figsize=(12, 8),\n",
        "        title='Rating Frequency of All Books (in Log Scale)',\n",
        "        fontsize=12,\n",
        "        logy=True\n",
        "    )\n",
        "ax.set_xlabel(\"Title\")\n",
        "ax.set_ylabel(\"number of ratings (log scale)\")"
      ],
      "execution_count": 0,
      "outputs": [
        {
          "output_type": "execute_result",
          "data": {
            "text/plain": [
              "Text(0, 0.5, 'number of ratings (log scale)')"
            ]
          },
          "metadata": {
            "tags": []
          },
          "execution_count": 147
        },
        {
          "output_type": "display_data",
          "data": {
            "image/png": "[encoded data removed]",
            "text/plain": [
              "<Figure size 864x576 with 1 Axes>"
            ]
          },
          "metadata": {
            "tags": []
          }
        }
      ]
    },
    {
      "cell_type": "code",
      "metadata": {
        "id": "CD8eUNjiPrlm",
        "colab_type": "code",
        "outputId": "bbe80ebc-d587-4073-b727-31c4a1fecae3",
        "colab": {
          "base_uri": "https://localhost:8080/",
          "height": 235
        }
      },
      "source": [
        "df_cnt['ratings_count'].quantile(np.arange(1, 0.4, -0.05))"
      ],
      "execution_count": 0,
      "outputs": [
        {
          "output_type": "execute_result",
          "data": {
            "text/plain": [
              "1.00    6510753.0\n",
              "0.95     148310.8\n",
              "0.90      48895.2\n",
              "0.85      20441.0\n",
              "0.80       9955.6\n",
              "0.75       5373.0\n",
              "0.70       3123.8\n",
              "0.65       1935.0\n",
              "0.60       1217.6\n",
              "0.55        760.2\n",
              "0.50        488.0\n",
              "0.45        342.0\n",
              "Name: ratings_count, dtype: float64"
            ]
          },
          "metadata": {
            "tags": []
          },
          "execution_count": 148
        }
      ]
    },
    {
      "cell_type": "markdown",
      "metadata": {
        "id": "fcRzOWQ-QHe4",
        "colab_type": "text"
      },
      "source": [
        ""
      ]
    },
    {
      "cell_type": "code",
      "metadata": {
        "id": "mVVmbFsKP6ed",
        "colab_type": "code",
        "outputId": "39909ed7-65cb-4255-e09b-8bdba0849809",
        "colab": {
          "base_uri": "https://localhost:8080/",
          "height": 50
        }
      },
      "source": [
        "# filter data\n",
        "popularity_thres =1217\n",
        "popular_books = list(set(df_cnt.query('ratings_count >= @popularity_thres').index))\n",
        "df_books_drop = df_books[df_books.title.isin(popular_books)]\n",
        "print('shape of original ratings data: ', df_books.shape)\n",
        "print('shape of ratings data after dropping unpopular movies: ', df_books_drop.shape)"
      ],
      "execution_count": 0,
      "outputs": [
        {
          "output_type": "stream",
          "text": [
            "shape of original ratings data:  (1169, 8)\n",
            "shape of ratings data after dropping unpopular movies:  (471, 8)\n"
          ],
          "name": "stdout"
        }
      ]
    },
    {
      "cell_type": "code",
      "metadata": {
        "id": "CCC8kgh2g_HX",
        "colab_type": "code",
        "outputId": "c4b22266-d3f8-4445-af64-dc2c79bb5b8f",
        "colab": {
          "base_uri": "https://localhost:8080/",
          "height": 195
        }
      },
      "source": [
        "df_books_drop.head()"
      ],
      "execution_count": 0,
      "outputs": [
        {
          "output_type": "execute_result",
          "data": {
            "text/html": [
              "<div>\n",
              "<style scoped>\n",
              "    .dataframe tbody tr th:only-of-type {\n",
              "        vertical-align: middle;\n",
              "    }\n",
              "\n",
              "    .dataframe tbody tr th {\n",
              "        vertical-align: top;\n",
              "    }\n",
              "\n",
              "    .dataframe thead th {\n",
              "        text-align: right;\n",
              "    }\n",
              "</style>\n",
              "<table border=\"1\" class=\"dataframe\">\n",
              "  <thead>\n",
              "    <tr style=\"text-align: right;\">\n",
              "      <th></th>\n",
              "      <th>id_book</th>\n",
              "      <th>title</th>\n",
              "      <th>authors</th>\n",
              "      <th>num_pages</th>\n",
              "      <th>ratings_count</th>\n",
              "      <th>reviews_count</th>\n",
              "      <th>text_reviews_count</th>\n",
              "      <th>average_rating</th>\n",
              "    </tr>\n",
              "  </thead>\n",
              "  <tbody>\n",
              "    <tr>\n",
              "      <th>0</th>\n",
              "      <td>Nvkwjw2LToEC</td>\n",
              "      <td>The Wind Through the Keyhole</td>\n",
              "      <td>['Stephen King']</td>\n",
              "      <td>309</td>\n",
              "      <td>62949</td>\n",
              "      <td>130610</td>\n",
              "      <td>5030</td>\n",
              "      <td>4.2</td>\n",
              "    </tr>\n",
              "    <tr>\n",
              "      <th>2</th>\n",
              "      <td>ekDTBgAAQBAJ</td>\n",
              "      <td>Die Kinder des Kapitän Grant</td>\n",
              "      <td>['Jules Verne']</td>\n",
              "      <td>538</td>\n",
              "      <td>9954</td>\n",
              "      <td>17743</td>\n",
              "      <td>224</td>\n",
              "      <td>4.1</td>\n",
              "    </tr>\n",
              "    <tr>\n",
              "      <th>6</th>\n",
              "      <td>nIJEAwAAQBAJ</td>\n",
              "      <td>The Wyrmling Horde</td>\n",
              "      <td>['David Farland']</td>\n",
              "      <td>343</td>\n",
              "      <td>2390</td>\n",
              "      <td>4609</td>\n",
              "      <td>44</td>\n",
              "      <td>3.8</td>\n",
              "    </tr>\n",
              "    <tr>\n",
              "      <th>7</th>\n",
              "      <td>aS50KCRwCFQC</td>\n",
              "      <td>Shameless</td>\n",
              "      <td>['Anne Stuart']</td>\n",
              "      <td>411</td>\n",
              "      <td>2556</td>\n",
              "      <td>4405</td>\n",
              "      <td>224</td>\n",
              "      <td>3.9</td>\n",
              "    </tr>\n",
              "    <tr>\n",
              "      <th>9</th>\n",
              "      <td>pLNzDwAAQBAJ</td>\n",
              "      <td>Lock Every Door</td>\n",
              "      <td>['Riley Sager']</td>\n",
              "      <td>381</td>\n",
              "      <td>45228</td>\n",
              "      <td>141017</td>\n",
              "      <td>7489</td>\n",
              "      <td>4.0</td>\n",
              "    </tr>\n",
              "  </tbody>\n",
              "</table>\n",
              "</div>"
            ],
            "text/plain": [
              "        id_book  ... average_rating\n",
              "0  Nvkwjw2LToEC  ...            4.2\n",
              "2  ekDTBgAAQBAJ  ...            4.1\n",
              "6  nIJEAwAAQBAJ  ...            3.8\n",
              "7  aS50KCRwCFQC  ...            3.9\n",
              "9  pLNzDwAAQBAJ  ...            4.0\n",
              "\n",
              "[5 rows x 8 columns]"
            ]
          },
          "metadata": {
            "tags": []
          },
          "execution_count": 149
        }
      ]
    },
    {
      "cell_type": "markdown",
      "metadata": {
        "id": "0DyKVFYgvfVw",
        "colab_type": "text"
      },
      "source": [
        "Reshaping Data for Clustering"
      ]
    },
    {
      "cell_type": "code",
      "metadata": {
        "id": "lyxm_-hevSUu",
        "colab_type": "code",
        "colab": {}
      },
      "source": [
        "# pivot and create book-rating-no.of reviews matrix\n",
        "trial = df_books_drop[['average_rating', 'ratings_count']]\n",
        "data = np.asarray([np.asarray(trial['average_rating']), np.asarray(trial['ratings_count'])]).T\n"
      ],
      "execution_count": 0,
      "outputs": []
    },
    {
      "cell_type": "markdown",
      "metadata": {
        "id": "P8bVk4AlyLul",
        "colab_type": "text"
      },
      "source": [
        "Elbow Curve method for the best way of finding the number of clusters for the data"
      ]
    },
    {
      "cell_type": "code",
      "metadata": {
        "id": "GtQLicUKwaLL",
        "colab_type": "code",
        "outputId": "18e19670-c6d7-44ec-ee79-1987838ca48e",
        "colab": {
          "base_uri": "https://localhost:8080/",
          "height": 626
        }
      },
      "source": [
        "from sklearn.cluster import KMeans\n",
        "X = data\n",
        "distortions = []\n",
        "for k in range(2,30):\n",
        "    k_means = KMeans(n_clusters = k)\n",
        "    k_means.fit(X)\n",
        "    distortions.append(k_means.inertia_)\n",
        "\n",
        "fig = plt.figure(figsize=(15,10))\n",
        "plt.plot(range(2,30), distortions, 'bx-')\n",
        "plt.title(\"Elbow Curve\")"
      ],
      "execution_count": 0,
      "outputs": [
        {
          "output_type": "execute_result",
          "data": {
            "text/plain": [
              "Text(0.5, 1.0, 'Elbow Curve')"
            ]
          },
          "metadata": {
            "tags": []
          },
          "execution_count": 155
        },
        {
          "output_type": "display_data",
          "data": {
            "image/png": "[encoded data removed]",
            "text/plain": [
              "<Figure size 1080x720 with 1 Axes>"
            ]
          },
          "metadata": {
            "tags": []
          }
        }
      ]
    },
    {
      "cell_type": "code",
      "metadata": {
        "id": "WTilHeVJykE9",
        "colab_type": "code",
        "outputId": "02cf747b-0178-4beb-e5f6-8ebbbdf59103",
        "colab": {
          "base_uri": "https://localhost:8080/",
          "height": 50
        }
      },
      "source": [
        "# define model\n",
        "model_knn = NearestNeighbors(metric='cosine', algorithm='brute', n_neighbors=5, n_jobs=-1)\n",
        "# fit\n",
        "model_knn.fit(X)"
      ],
      "execution_count": 0,
      "outputs": [
        {
          "output_type": "execute_result",
          "data": {
            "text/plain": [
              "NearestNeighbors(algorithm='brute', leaf_size=30, metric='cosine',\n",
              "                 metric_params=None, n_jobs=-1, n_neighbors=5, p=2, radius=1.0)"
            ]
          },
          "metadata": {
            "tags": []
          },
          "execution_count": 156
        }
      ]
    },
    {
      "cell_type": "code",
      "metadata": {
        "id": "mCTX9ORe4XFW",
        "colab_type": "code",
        "colab": {}
      },
      "source": [
        "distance, indices = model_knn.kneighbors(data, )"
      ],
      "execution_count": 0,
      "outputs": []
    },
    {
      "cell_type": "code",
      "metadata": {
        "id": "QyoTSjys4jfY",
        "colab_type": "code",
        "colab": {}
      },
      "source": [
        "def get_index_from_name(name):\n",
        "    return df_books[df_books[\"title\"]==name].index.tolist()[0]\n",
        "\n",
        "all_books_names = list(df_books.title.values)\n",
        "\n",
        "def get_id_from_partial_name(partial):\n",
        "    for name in all_books_names:\n",
        "        if partial in name:\n",
        "            print(name,all_books_names.index(name))\n",
        "            \n",
        "def print_similar_books(query=None,id=None):\n",
        "    if id:\n",
        "        for id in indices[id][1:]:\n",
        "            print(df_books.iloc[id][\"title\"])\n",
        "    if query:\n",
        "        found_id = get_id_from_partial_name(query)\n",
        "        for id in indices[found_id][1:]:\n",
        "            print(df_books.iloc[id][\"title\"])"
      ],
      "execution_count": 0,
      "outputs": []
    },
    {
      "cell_type": "code",
      "metadata": {
        "id": "sygDshN07wRo",
        "colab_type": "code",
        "outputId": "44c9e6f6-62fd-4bd9-bc3d-ba8e8b140963",
        "colab": {
          "base_uri": "https://localhost:8080/",
          "height": 84
        }
      },
      "source": [
        "print_similar_books(query='Revolution')"
      ],
      "execution_count": 0,
      "outputs": [
        {
          "output_type": "stream",
          "text": [
            "Revolution 2020 172\n",
            "The Fourth Revolution 534\n",
            "Crime and Punishment in the Russian Revolution 965\n",
            "Aristophanes' Male and Female Revolutions 1129\n"
          ],
          "name": "stdout"
        }
      ]
    },
    {
      "cell_type": "code",
      "metadata": {
        "id": "euBPRGDu5uKf",
        "colab_type": "code",
        "outputId": "d3e45e13-dd84-4585-8855-b4372bf67714",
        "colab": {
          "base_uri": "https://localhost:8080/",
          "height": 84
        }
      },
      "source": [
        "print_similar_books(id=5)"
      ],
      "execution_count": 0,
      "outputs": [
        {
          "output_type": "stream",
          "text": [
            "Revolution 2020\n",
            "Love in Exile\n",
            "The Woman in Cabin 10\n",
            "Philoctetes\n"
          ],
          "name": "stdout"
        }
      ]
    },
    {
      "cell_type": "code",
      "metadata": {
        "id": "uN39SeqE0W_c",
        "colab_type": "code",
        "outputId": "8b132234-693c-493d-f700-3db021c3d36a",
        "colab": {
          "base_uri": "https://localhost:8080/",
          "height": 50
        }
      },
      "source": [
        "# define model\n",
        "model_knn2 = NearestNeighbors(metric='euclidean', algorithm='kd_tree', n_neighbors=5, n_jobs=-1)\n",
        "# fit\n",
        "model_knn2.fit(X)"
      ],
      "execution_count": 0,
      "outputs": [
        {
          "output_type": "execute_result",
          "data": {
            "text/plain": [
              "NearestNeighbors(algorithm='kd_tree', leaf_size=30, metric='euclidean',\n",
              "                 metric_params=None, n_jobs=-1, n_neighbors=5, p=2, radius=1.0)"
            ]
          },
          "metadata": {
            "tags": []
          },
          "execution_count": 159
        }
      ]
    },
    {
      "cell_type": "code",
      "metadata": {
        "id": "Pk7MxFEV7F5F",
        "colab_type": "code",
        "outputId": "c01f8264-89e3-4daf-f99b-795a80d71e0c",
        "colab": {
          "base_uri": "https://localhost:8080/",
          "height": 84
        }
      },
      "source": [
        "distance, indices = model_knn2.kneighbors(data)\n",
        "\n",
        "print_similar_books(id=5)"
      ],
      "execution_count": 0,
      "outputs": [
        {
          "output_type": "stream",
          "text": [
            "Revolution 2020\n",
            "Love in Exile\n",
            "The Woman in Cabin 10\n",
            "Philoctetes\n"
          ],
          "name": "stdout"
        }
      ]
    },
    {
      "cell_type": "code",
      "metadata": {
        "id": "aqciXKE21erQ",
        "colab_type": "code",
        "outputId": "d300b4fe-3cab-4a69-b0f4-43519a7e56a1",
        "colab": {
          "base_uri": "https://localhost:8080/",
          "height": 50
        }
      },
      "source": [
        "# define model#3\n",
        "model_knn3 = NearestNeighbors(metric='euclidean', algorithm='ball_tree', n_neighbors=5, n_jobs=-1)\n",
        "# fit\n",
        "model_knn3.fit(X)"
      ],
      "execution_count": 0,
      "outputs": [
        {
          "output_type": "execute_result",
          "data": {
            "text/plain": [
              "NearestNeighbors(algorithm='ball_tree', leaf_size=30, metric='euclidean',\n",
              "                 metric_params=None, n_jobs=-1, n_neighbors=5, p=2, radius=1.0)"
            ]
          },
          "metadata": {
            "tags": []
          },
          "execution_count": 186
        }
      ]
    },
    {
      "cell_type": "code",
      "metadata": {
        "id": "vrOsIKc_7UmQ",
        "colab_type": "code",
        "outputId": "13f2a8b9-64f9-43a0-e352-06780b8ccaee",
        "colab": {
          "base_uri": "https://localhost:8080/",
          "height": 84
        }
      },
      "source": [
        "distance, indices = model_knn3.kneighbors(data)\n",
        "\n",
        "print_similar_books(id=5)"
      ],
      "execution_count": 0,
      "outputs": [
        {
          "output_type": "stream",
          "text": [
            "Revolution 2020\n",
            "Love in Exile\n",
            "The Woman in Cabin 10\n",
            "Philoctetes\n"
          ],
          "name": "stdout"
        }
      ]
    },
    {
      "cell_type": "code",
      "metadata": {
        "id": "OlH0Eic2CQcm",
        "colab_type": "code",
        "outputId": "52298e3a-a582-457e-ce6b-df79216b5d24",
        "colab": {
          "base_uri": "https://localhost:8080/",
          "height": 293
        }
      },
      "source": [
        "kmeans= KMeans(n_clusters=10)\n",
        "kmeans.fit(X)\n",
        "predicted_clusters=kmeans.predict(data)\n",
        "plt.scatter(data[:, 0], data[:, 1], c=predicted_clusters, s=50, cmap='viridis')"
      ],
      "execution_count": 0,
      "outputs": [
        {
          "output_type": "execute_result",
          "data": {
            "text/plain": [
              "<matplotlib.collections.PathCollection at 0x7fb343b56668>"
            ]
          },
          "metadata": {
            "tags": []
          },
          "execution_count": 216
        },
        {
          "output_type": "display_data",
          "data": {
            "image/png": "[encoded data removed]",
            "text/plain": [
              "<Figure size 432x288 with 1 Axes>"
            ]
          },
          "metadata": {
            "tags": []
          }
        }
      ]
    },
    {
      "cell_type": "code",
      "metadata": {
        "id": "fvT2k_vUEu94",
        "colab_type": "code",
        "colab": {}
      },
      "source": [
        ""
      ],
      "execution_count": 0,
      "outputs": []
    }
  ]
}